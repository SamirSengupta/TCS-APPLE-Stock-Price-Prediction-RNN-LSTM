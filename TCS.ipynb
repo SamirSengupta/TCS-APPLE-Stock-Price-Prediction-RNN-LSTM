{
 "cells": [
  {
   "cell_type": "code",
   "execution_count": 40,
   "id": "fab40da6-8cf9-465b-9da3-0b6093e73970",
   "metadata": {},
   "outputs": [],
   "source": [
    "import yfinance as yf"
   ]
  },
  {
   "cell_type": "code",
   "execution_count": 41,
   "id": "f8c0b175-20cc-4420-8c39-cf6f4ab53752",
   "metadata": {},
   "outputs": [],
   "source": [
    "ticker = 'TCS'"
   ]
  },
  {
   "cell_type": "code",
   "execution_count": 42,
   "id": "5b2c88d6-41b7-48be-ab2a-299fb306c8a5",
   "metadata": {},
   "outputs": [],
   "source": [
    "start = '2020-01-01'\n",
    "end = '2024-03-31'"
   ]
  },
  {
   "cell_type": "code",
   "execution_count": 43,
   "id": "acc1a1e8-78bd-4f12-bb48-b99976f89e98",
   "metadata": {},
   "outputs": [
    {
     "name": "stderr",
     "output_type": "stream",
     "text": [
      "[*********************100%%**********************]  1 of 1 completed\n"
     ]
    }
   ],
   "source": [
    "df = yf.download(ticker, start = start, end = end)"
   ]
  },
  {
   "cell_type": "code",
   "execution_count": 44,
   "id": "f0b99de9-184c-428b-bd59-1151645fd60c",
   "metadata": {},
   "outputs": [
    {
     "data": {
      "text/html": [
       "<div>\n",
       "<style scoped>\n",
       "    .dataframe tbody tr th:only-of-type {\n",
       "        vertical-align: middle;\n",
       "    }\n",
       "\n",
       "    .dataframe tbody tr th {\n",
       "        vertical-align: top;\n",
       "    }\n",
       "\n",
       "    .dataframe thead th {\n",
       "        text-align: right;\n",
       "    }\n",
       "</style>\n",
       "<table border=\"1\" class=\"dataframe\">\n",
       "  <thead>\n",
       "    <tr style=\"text-align: right;\">\n",
       "      <th></th>\n",
       "      <th>Open</th>\n",
       "      <th>High</th>\n",
       "      <th>Low</th>\n",
       "      <th>Close</th>\n",
       "      <th>Adj Close</th>\n",
       "      <th>Volume</th>\n",
       "    </tr>\n",
       "    <tr>\n",
       "      <th>Date</th>\n",
       "      <th></th>\n",
       "      <th></th>\n",
       "      <th></th>\n",
       "      <th></th>\n",
       "      <th></th>\n",
       "      <th></th>\n",
       "    </tr>\n",
       "  </thead>\n",
       "  <tbody>\n",
       "    <tr>\n",
       "      <th>2020-01-02</th>\n",
       "      <td>4.29</td>\n",
       "      <td>4.37</td>\n",
       "      <td>4.17</td>\n",
       "      <td>4.27</td>\n",
       "      <td>3.991522</td>\n",
       "      <td>142800</td>\n",
       "    </tr>\n",
       "    <tr>\n",
       "      <th>2020-01-03</th>\n",
       "      <td>4.22</td>\n",
       "      <td>4.32</td>\n",
       "      <td>4.18</td>\n",
       "      <td>4.28</td>\n",
       "      <td>4.000870</td>\n",
       "      <td>141500</td>\n",
       "    </tr>\n",
       "    <tr>\n",
       "      <th>2020-01-06</th>\n",
       "      <td>4.23</td>\n",
       "      <td>4.46</td>\n",
       "      <td>4.20</td>\n",
       "      <td>4.45</td>\n",
       "      <td>4.159782</td>\n",
       "      <td>118500</td>\n",
       "    </tr>\n",
       "    <tr>\n",
       "      <th>2020-01-07</th>\n",
       "      <td>4.44</td>\n",
       "      <td>4.45</td>\n",
       "      <td>4.31</td>\n",
       "      <td>4.39</td>\n",
       "      <td>4.103695</td>\n",
       "      <td>104500</td>\n",
       "    </tr>\n",
       "    <tr>\n",
       "      <th>2020-01-08</th>\n",
       "      <td>4.36</td>\n",
       "      <td>4.45</td>\n",
       "      <td>4.33</td>\n",
       "      <td>4.34</td>\n",
       "      <td>4.056957</td>\n",
       "      <td>213400</td>\n",
       "    </tr>\n",
       "  </tbody>\n",
       "</table>\n",
       "</div>"
      ],
      "text/plain": [
       "            Open  High   Low  Close  Adj Close  Volume\n",
       "Date                                                  \n",
       "2020-01-02  4.29  4.37  4.17   4.27   3.991522  142800\n",
       "2020-01-03  4.22  4.32  4.18   4.28   4.000870  141500\n",
       "2020-01-06  4.23  4.46  4.20   4.45   4.159782  118500\n",
       "2020-01-07  4.44  4.45  4.31   4.39   4.103695  104500\n",
       "2020-01-08  4.36  4.45  4.33   4.34   4.056957  213400"
      ]
     },
     "execution_count": 44,
     "metadata": {},
     "output_type": "execute_result"
    }
   ],
   "source": [
    "df.head()"
   ]
  },
  {
   "cell_type": "code",
   "execution_count": 45,
   "id": "335bd053-7ba3-4ab3-915f-ed2a5da72573",
   "metadata": {},
   "outputs": [],
   "source": [
    "import pandas as pd\n",
    "import numpy as np\n",
    "import matplotlib.pyplot as plt\n",
    "import seaborn as sns\n",
    "import tensorflow as tf\n",
    "from tensorflow.keras import Sequential\n",
    "from tensorflow.keras.layers import Dense, LSTM"
   ]
  },
  {
   "cell_type": "code",
   "execution_count": 46,
   "id": "f5621ff3-0bc3-4029-ae4e-8b708e3d877e",
   "metadata": {},
   "outputs": [
    {
     "data": {
      "text/plain": [
       "Open         float64\n",
       "High         float64\n",
       "Low          float64\n",
       "Close        float64\n",
       "Adj Close    float64\n",
       "Volume         int64\n",
       "dtype: object"
      ]
     },
     "execution_count": 46,
     "metadata": {},
     "output_type": "execute_result"
    }
   ],
   "source": [
    "df.dtypes"
   ]
  },
  {
   "cell_type": "code",
   "execution_count": 47,
   "id": "dc42810f-021f-489f-8c32-4cc8b1cd65f1",
   "metadata": {},
   "outputs": [],
   "source": [
    "df_corr = df.corr()"
   ]
  },
  {
   "cell_type": "code",
   "execution_count": 48,
   "id": "0ae691c9-8001-46a9-894a-8d693d56962f",
   "metadata": {},
   "outputs": [
    {
     "data": {
      "text/plain": [
       "<Axes: >"
      ]
     },
     "execution_count": 48,
     "metadata": {},
     "output_type": "execute_result"
    },
    {
     "data": {
      "image/png": "[encoded data removed]",
      "text/plain": [
       "<Figure size 640x480 with 2 Axes>"
      ]
     },
     "metadata": {},
     "output_type": "display_data"
    }
   ],
   "source": [
    "sns.heatmap(df_corr,annot= True)"
   ]
  },
  {
   "cell_type": "code",
   "execution_count": 49,
   "id": "a9c5501b-9c56-457f-a086-218bc8687caf",
   "metadata": {},
   "outputs": [],
   "source": [
    "from sklearn.preprocessing import MinMaxScaler\n",
    "scaler = MinMaxScaler()"
   ]
  },
  {
   "cell_type": "code",
   "execution_count": 50,
   "id": "6071085f-b7e5-4334-b040-847f6859f6c5",
   "metadata": {},
   "outputs": [],
   "source": [
    "df_scale = scaler.fit_transform(df['Close'].values.reshape(-1,1))"
   ]
  },
  {
   "cell_type": "code",
   "execution_count": 51,
   "id": "075ccd61-9494-4892-8f12-e390da4c8cc4",
   "metadata": {},
   "outputs": [
    {
     "data": {
      "text/plain": [
       "array([[0.17931793],\n",
       "       [0.17986799],\n",
       "       [0.18921891],\n",
       "       ...,\n",
       "       [0.00385039],\n",
       "       [0.0049505 ],\n",
       "       [0.00715071]])"
      ]
     },
     "execution_count": 51,
     "metadata": {},
     "output_type": "execute_result"
    }
   ],
   "source": [
    "df_scale"
   ]
  },
  {
   "cell_type": "code",
   "execution_count": 62,
   "id": "7e3335ee-904d-4b34-92ed-05e27a275184",
   "metadata": {},
   "outputs": [],
   "source": [
    "import numpy as np\n",
    "def create_dataset(df, time_steps):\n",
    "    x, y = [], []\n",
    "    for i in range(len(df) - time_steps - 1):\n",
    "        x.append(df[i:(i + time_steps), 0])\n",
    "        y.append(df[i + time_steps, 0])\n",
    "    return np.array(x), np.array(y)\n",
    "\n",
    "time_steps = 10\n",
    "x, y = create_dataset(df_scale, time_steps)"
   ]
  },
  {
   "cell_type": "code",
   "execution_count": 63,
   "id": "9d58f5e3-a796-47cd-8eb0-6a8be001dca2",
   "metadata": {},
   "outputs": [],
   "source": [
    "train = int(len(x) * 0.8)"
   ]
  },
  {
   "cell_type": "code",
   "execution_count": 64,
   "id": "51aa6c34-7e6b-4a19-960b-4177061540cb",
   "metadata": {},
   "outputs": [
    {
     "data": {
      "text/plain": [
       "844"
      ]
     },
     "execution_count": 64,
     "metadata": {},
     "output_type": "execute_result"
    }
   ],
   "source": [
    "train"
   ]
  },
  {
   "cell_type": "code",
   "execution_count": 66,
   "id": "9505f58b-e5ac-4284-afb3-da7866cfc584",
   "metadata": {},
   "outputs": [],
   "source": [
    "x_tr, x_te = x[:train], x[train:]"
   ]
  },
  {
   "cell_type": "code",
   "execution_count": 67,
   "id": "9c8a82c4-7e24-4953-b261-3580863e1847",
   "metadata": {},
   "outputs": [],
   "source": [
    "y_tr, y_te = y[:train], y[train:]"
   ]
  },
  {
   "cell_type": "code",
   "execution_count": 68,
   "id": "8eccea03-21f4-4d0f-9355-cf8d366af84e",
   "metadata": {},
   "outputs": [],
   "source": [
    "x_tr = x_tr.reshape(x_tr.shape[0], x_tr.shape[1])"
   ]
  },
  {
   "cell_type": "code",
   "execution_count": 70,
   "id": "a72c2372-f937-489e-9b54-4d10cce6aa56",
   "metadata": {},
   "outputs": [],
   "source": [
    "x_te = x_te.reshape(x_te.shape[0], x_te.shape[1])"
   ]
  },
  {
   "cell_type": "code",
   "execution_count": 71,
   "id": "11f47e24-5af9-4ab3-a9ae-01aa1e3adbcb",
   "metadata": {},
   "outputs": [],
   "source": [
    "model = Sequential([\n",
    "    LSTM(128, input_shape=(time_steps,1), return_sequences= True),\n",
    "    LSTM(64, return_sequences=False),\n",
    "    Dense(10)\n",
    "])"
   ]
  },
  {
   "cell_type": "code",
   "execution_count": 72,
   "id": "78ac3fdc-9236-4540-886a-e266b7c255ed",
   "metadata": {},
   "outputs": [],
   "source": [
    "model.compile(optimizer= 'adam', loss= 'mean_squared_error')"
   ]
  },
  {
   "cell_type": "code",
   "execution_count": 73,
   "id": "9bf296d9-da78-4e9a-a146-9232f07dd95b",
   "metadata": {},
   "outputs": [
    {
     "name": "stdout",
     "output_type": "stream",
     "text": [
      "Epoch 1/100\n",
      "27/27 [==============================] - 4s 12ms/step - loss: 0.0529\n",
      "Epoch 2/100\n",
      "27/27 [==============================] - 0s 12ms/step - loss: 0.0025\n",
      "Epoch 3/100\n",
      "27/27 [==============================] - 0s 12ms/step - loss: 0.0016\n",
      "Epoch 4/100\n",
      "27/27 [==============================] - 0s 12ms/step - loss: 0.0016\n",
      "Epoch 5/100\n",
      "27/27 [==============================] - 0s 12ms/step - loss: 0.0015\n",
      "Epoch 6/100\n",
      "27/27 [==============================] - 0s 13ms/step - loss: 0.0015\n",
      "Epoch 7/100\n",
      "27/27 [==============================] - 0s 12ms/step - loss: 0.0015\n",
      "Epoch 8/100\n",
      "27/27 [==============================] - 0s 12ms/step - loss: 0.0014\n",
      "Epoch 9/100\n",
      "27/27 [==============================] - 0s 15ms/step - loss: 0.0014\n",
      "Epoch 10/100\n",
      "27/27 [==============================] - 0s 12ms/step - loss: 0.0015\n",
      "Epoch 11/100\n",
      "27/27 [==============================] - 0s 14ms/step - loss: 0.0014\n",
      "Epoch 12/100\n",
      "27/27 [==============================] - 0s 12ms/step - loss: 0.0014\n",
      "Epoch 13/100\n",
      "27/27 [==============================] - 0s 12ms/step - loss: 0.0015\n",
      "Epoch 14/100\n",
      "27/27 [==============================] - 0s 12ms/step - loss: 0.0014\n",
      "Epoch 15/100\n",
      "27/27 [==============================] - 0s 12ms/step - loss: 0.0014\n",
      "Epoch 16/100\n",
      "27/27 [==============================] - 0s 11ms/step - loss: 0.0013\n",
      "Epoch 17/100\n",
      "27/27 [==============================] - 0s 12ms/step - loss: 0.0013\n",
      "Epoch 18/100\n",
      "27/27 [==============================] - 0s 12ms/step - loss: 0.0013\n",
      "Epoch 19/100\n",
      "27/27 [==============================] - 0s 11ms/step - loss: 0.0013\n",
      "Epoch 20/100\n",
      "27/27 [==============================] - 0s 12ms/step - loss: 0.0014\n",
      "Epoch 21/100\n",
      "27/27 [==============================] - 0s 11ms/step - loss: 0.0015\n",
      "Epoch 22/100\n",
      "27/27 [==============================] - 0s 12ms/step - loss: 0.0015\n",
      "Epoch 23/100\n",
      "27/27 [==============================] - 0s 11ms/step - loss: 0.0013\n",
      "Epoch 24/100\n",
      "27/27 [==============================] - 0s 12ms/step - loss: 0.0012\n",
      "Epoch 25/100\n",
      "27/27 [==============================] - 0s 12ms/step - loss: 0.0012\n",
      "Epoch 26/100\n",
      "27/27 [==============================] - 0s 12ms/step - loss: 0.0013\n",
      "Epoch 27/100\n",
      "27/27 [==============================] - 0s 12ms/step - loss: 0.0011\n",
      "Epoch 28/100\n",
      "27/27 [==============================] - 0s 12ms/step - loss: 0.0013\n",
      "Epoch 29/100\n",
      "27/27 [==============================] - 0s 11ms/step - loss: 0.0012\n",
      "Epoch 30/100\n",
      "27/27 [==============================] - 0s 11ms/step - loss: 0.0011\n",
      "Epoch 31/100\n",
      "27/27 [==============================] - 0s 12ms/step - loss: 0.0012\n",
      "Epoch 32/100\n",
      "27/27 [==============================] - 0s 11ms/step - loss: 0.0014\n",
      "Epoch 33/100\n",
      "27/27 [==============================] - 0s 11ms/step - loss: 0.0011\n",
      "Epoch 34/100\n",
      "27/27 [==============================] - 0s 11ms/step - loss: 0.0011\n",
      "Epoch 35/100\n",
      "27/27 [==============================] - 0s 12ms/step - loss: 0.0011\n",
      "Epoch 36/100\n",
      "27/27 [==============================] - 0s 12ms/step - loss: 0.0010\n",
      "Epoch 37/100\n",
      "27/27 [==============================] - 0s 13ms/step - loss: 0.0010\n",
      "Epoch 38/100\n",
      "27/27 [==============================] - 0s 12ms/step - loss: 0.0010\n",
      "Epoch 39/100\n",
      "27/27 [==============================] - 0s 12ms/step - loss: 9.9084e-04\n",
      "Epoch 40/100\n",
      "27/27 [==============================] - 0s 14ms/step - loss: 0.0010\n",
      "Epoch 41/100\n",
      "27/27 [==============================] - 0s 12ms/step - loss: 0.0011\n",
      "Epoch 42/100\n",
      "27/27 [==============================] - 0s 12ms/step - loss: 9.9427e-04\n",
      "Epoch 43/100\n",
      "27/27 [==============================] - 0s 15ms/step - loss: 9.3914e-04\n",
      "Epoch 44/100\n",
      "27/27 [==============================] - 0s 12ms/step - loss: 9.1073e-04\n",
      "Epoch 45/100\n",
      "27/27 [==============================] - 0s 11ms/step - loss: 8.8525e-04\n",
      "Epoch 46/100\n",
      "27/27 [==============================] - 0s 12ms/step - loss: 0.0011\n",
      "Epoch 47/100\n",
      "27/27 [==============================] - 0s 12ms/step - loss: 8.9438e-04\n",
      "Epoch 48/100\n",
      "27/27 [==============================] - 0s 12ms/step - loss: 9.2820e-04\n",
      "Epoch 49/100\n",
      "27/27 [==============================] - 0s 11ms/step - loss: 9.0318e-04\n",
      "Epoch 50/100\n",
      "27/27 [==============================] - 0s 12ms/step - loss: 9.8832e-04\n",
      "Epoch 51/100\n",
      "27/27 [==============================] - 0s 12ms/step - loss: 8.5713e-04\n",
      "Epoch 52/100\n",
      "27/27 [==============================] - 0s 12ms/step - loss: 7.8239e-04\n",
      "Epoch 53/100\n",
      "27/27 [==============================] - 0s 15ms/step - loss: 8.1553e-04\n",
      "Epoch 54/100\n",
      "27/27 [==============================] - 0s 12ms/step - loss: 8.0263e-04\n",
      "Epoch 55/100\n",
      "27/27 [==============================] - 0s 12ms/step - loss: 7.9230e-04\n",
      "Epoch 56/100\n",
      "27/27 [==============================] - 0s 12ms/step - loss: 8.3939e-04\n",
      "Epoch 57/100\n",
      "27/27 [==============================] - 0s 12ms/step - loss: 8.3680e-04\n",
      "Epoch 58/100\n",
      "27/27 [==============================] - 0s 14ms/step - loss: 7.9690e-04\n",
      "Epoch 59/100\n",
      "27/27 [==============================] - 0s 12ms/step - loss: 8.1915e-04\n",
      "Epoch 60/100\n",
      "27/27 [==============================] - 0s 12ms/step - loss: 8.6128e-04\n",
      "Epoch 61/100\n",
      "27/27 [==============================] - 0s 12ms/step - loss: 7.3993e-04\n",
      "Epoch 62/100\n",
      "27/27 [==============================] - 0s 12ms/step - loss: 7.8444e-04\n",
      "Epoch 63/100\n",
      "27/27 [==============================] - 0s 12ms/step - loss: 8.1703e-04\n",
      "Epoch 64/100\n",
      "27/27 [==============================] - 0s 12ms/step - loss: 7.4841e-04\n",
      "Epoch 65/100\n",
      "27/27 [==============================] - 0s 12ms/step - loss: 6.6407e-04\n",
      "Epoch 66/100\n",
      "27/27 [==============================] - 0s 14ms/step - loss: 6.6736e-04\n",
      "Epoch 67/100\n",
      "27/27 [==============================] - 0s 14ms/step - loss: 6.6732e-04\n",
      "Epoch 68/100\n",
      "27/27 [==============================] - 0s 14ms/step - loss: 6.2908e-04\n",
      "Epoch 69/100\n",
      "27/27 [==============================] - 0s 13ms/step - loss: 6.8739e-04\n",
      "Epoch 70/100\n",
      "27/27 [==============================] - 0s 13ms/step - loss: 6.3762e-04\n",
      "Epoch 71/100\n",
      "27/27 [==============================] - 0s 12ms/step - loss: 6.5500e-04\n",
      "Epoch 72/100\n",
      "27/27 [==============================] - 0s 13ms/step - loss: 6.8415e-04\n",
      "Epoch 73/100\n",
      "27/27 [==============================] - 0s 14ms/step - loss: 8.1793e-04\n",
      "Epoch 74/100\n",
      "27/27 [==============================] - 0s 12ms/step - loss: 6.6130e-04\n",
      "Epoch 75/100\n",
      "27/27 [==============================] - 0s 13ms/step - loss: 6.1205e-04\n",
      "Epoch 76/100\n",
      "27/27 [==============================] - 0s 13ms/step - loss: 6.4412e-04\n",
      "Epoch 77/100\n",
      "27/27 [==============================] - 0s 14ms/step - loss: 6.4991e-04\n",
      "Epoch 78/100\n",
      "27/27 [==============================] - 0s 12ms/step - loss: 6.4105e-04\n",
      "Epoch 79/100\n",
      "27/27 [==============================] - 0s 12ms/step - loss: 5.9780e-04\n",
      "Epoch 80/100\n",
      "27/27 [==============================] - 0s 12ms/step - loss: 6.0620e-04\n",
      "Epoch 81/100\n",
      "27/27 [==============================] - 0s 12ms/step - loss: 5.8324e-04\n",
      "Epoch 82/100\n",
      "27/27 [==============================] - 0s 12ms/step - loss: 7.7600e-04\n",
      "Epoch 83/100\n",
      "27/27 [==============================] - 0s 12ms/step - loss: 5.8058e-04\n",
      "Epoch 84/100\n",
      "27/27 [==============================] - 0s 15ms/step - loss: 5.6194e-04\n",
      "Epoch 85/100\n",
      "27/27 [==============================] - 0s 13ms/step - loss: 5.6998e-04\n",
      "Epoch 86/100\n",
      "27/27 [==============================] - 0s 14ms/step - loss: 5.6578e-04\n",
      "Epoch 87/100\n",
      "27/27 [==============================] - 0s 12ms/step - loss: 6.0730e-04\n",
      "Epoch 88/100\n",
      "27/27 [==============================] - 0s 12ms/step - loss: 5.8894e-04\n",
      "Epoch 89/100\n",
      "27/27 [==============================] - 0s 12ms/step - loss: 5.9609e-04\n",
      "Epoch 90/100\n",
      "27/27 [==============================] - 0s 12ms/step - loss: 5.6713e-04\n",
      "Epoch 91/100\n",
      "27/27 [==============================] - 0s 12ms/step - loss: 5.8027e-04\n",
      "Epoch 92/100\n",
      "27/27 [==============================] - 0s 12ms/step - loss: 5.2319e-04\n",
      "Epoch 93/100\n",
      "27/27 [==============================] - 0s 12ms/step - loss: 5.1433e-04\n",
      "Epoch 94/100\n",
      "27/27 [==============================] - 0s 12ms/step - loss: 5.4272e-04\n",
      "Epoch 95/100\n",
      "27/27 [==============================] - 0s 13ms/step - loss: 5.2734e-04\n",
      "Epoch 96/100\n",
      "27/27 [==============================] - 0s 14ms/step - loss: 5.2421e-04\n",
      "Epoch 97/100\n",
      "27/27 [==============================] - 0s 12ms/step - loss: 5.1331e-04\n",
      "Epoch 98/100\n",
      "27/27 [==============================] - 0s 16ms/step - loss: 5.5649e-04\n",
      "Epoch 99/100\n",
      "27/27 [==============================] - 0s 12ms/step - loss: 4.9327e-04\n",
      "Epoch 100/100\n",
      "27/27 [==============================] - 0s 12ms/step - loss: 5.0639e-04\n"
     ]
    },
    {
     "data": {
      "text/plain": [
       "<keras.src.callbacks.History at 0x1ffb747b9d0>"
      ]
     },
     "execution_count": 73,
     "metadata": {},
     "output_type": "execute_result"
    }
   ],
   "source": [
    "model.fit(x_tr, y_tr, epochs= 100, batch_size= 32)"
   ]
  },
  {
   "cell_type": "code",
   "execution_count": 74,
   "id": "9403365a-0e52-4c8f-bef9-b63b015999a5",
   "metadata": {},
   "outputs": [
    {
     "name": "stdout",
     "output_type": "stream",
     "text": [
      "7/7 [==============================] - 1s 5ms/step - loss: 6.4112e-05\n",
      "6.411178765119985e-05\n"
     ]
    }
   ],
   "source": [
    "mse = model.evaluate(x_te, y_te)\n",
    "print(mse)"
   ]
  },
  {
   "cell_type": "code",
   "execution_count": 75,
   "id": "78235f8a-5211-45a3-bf64-79dc5cf57ac3",
   "metadata": {},
   "outputs": [
    {
     "name": "stdout",
     "output_type": "stream",
     "text": [
      "7/7 [==============================] - 1s 5ms/step\n"
     ]
    }
   ],
   "source": [
    "predict = model.predict(x_te)"
   ]
  },
  {
   "cell_type": "code",
   "execution_count": 76,
   "id": "592de729-d3f1-4097-a2db-b59d725f19a1",
   "metadata": {},
   "outputs": [],
   "source": [
    "predict = scaler.inverse_transform(predict)"
   ]
  },
  {
   "cell_type": "code",
   "execution_count": 77,
   "id": "749e983d-da0e-45b5-9c6a-b9847c8f6b12",
   "metadata": {},
   "outputs": [
    {
     "data": {
      "image/png": "[encoded data removed]",
      "text/plain": [
       "<Figure size 640x480 with 1 Axes>"
      ]
     },
     "metadata": {},
     "output_type": "display_data"
    }
   ],
   "source": [
    "# Visualize the predictions\n",
    "import matplotlib.pyplot as plt\n",
    "\n",
    "plt.plot(predict, label='Predicted')\n",
    "plt.plot(scaler.inverse_transform(y_te.reshape(-1, 1)), label='Actual')\n",
    "plt.xlabel('Time')\n",
    "plt.ylabel('Stock Price')\n",
    "plt.title('Stock Price Prediction')\n",
    "plt.legend()\n",
    "plt.show()"
   ]
  },
  {
   "cell_type": "code",
   "execution_count": null,
   "id": "31c211b5-018b-4c2a-850b-7683cdad8845",
   "metadata": {},
   "outputs": [],
   "source": []
  }
 ],
 "metadata": {
  "kernelspec": {
   "display_name": "Python 3 (ipykernel)",
   "language": "python",
   "name": "python3"
  },
  "language_info": {
   "codemirror_mode": {
    "name": "ipython",
    "version": 3
   },
   "file_extension": ".py",
   "mimetype": "text/x-python",
   "name": "python",
   "nbconvert_exporter": "python",
   "pygments_lexer": "ipython3",
   "version": "3.11.0"
  }
 },
 "nbformat": 4,
 "nbformat_minor": 5
}
