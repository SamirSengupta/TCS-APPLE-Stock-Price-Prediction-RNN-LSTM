{
 "cells": [
  {
   "cell_type": "code",
   "execution_count": 3,
   "id": "0e0900b4-eeed-4a9a-b38e-9583f49f416b",
   "metadata": {},
   "outputs": [
    {
     "name": "stderr",
     "output_type": "stream",
     "text": [
      "[*********************100%%**********************]  1 of 1 completed"
     ]
    },
    {
     "name": "stdout",
     "output_type": "stream",
     "text": [
      "                 Open       High        Low      Close  Adj Close     Volume\n",
      "Date                                                                        \n",
      "2020-01-02  74.059998  75.150002  73.797501  75.087502  73.059425  135480400\n",
      "2020-01-03  74.287498  75.144997  74.125000  74.357498  72.349136  146322800\n",
      "2020-01-06  73.447502  74.989998  73.187500  74.949997  72.925644  118387200\n",
      "2020-01-07  74.959999  75.224998  74.370003  74.597504  72.582649  108872000\n",
      "2020-01-08  74.290001  76.110001  74.290001  75.797501  73.750267  132079200\n"
     ]
    },
    {
     "name": "stderr",
     "output_type": "stream",
     "text": [
      "\n"
     ]
    }
   ],
   "source": [
    "import yfinance as yf\n",
    "\n",
    "# Define the ticker symbol\n",
    "ticker_symbol = \"AAPL\"\n",
    "\n",
    "# Define the start and end dates for the data\n",
    "start_date = \"2020-01-01\"\n",
    "end_date = \"2024-03-31\"\n",
    "\n",
    "# Download the data\n",
    "df = yf.download(ticker_symbol, start=start_date, end=end_date)\n",
    "\n",
    "# Print the first few rows of the data\n",
    "print(df.head())\n"
   ]
  },
  {
   "cell_type": "code",
   "execution_count": 4,
   "id": "60bcfe49-7509-4c25-8656-f8e0ce578707",
   "metadata": {},
   "outputs": [
    {
     "data": {
      "text/html": [
       "<div>\n",
       "<style scoped>\n",
       "    .dataframe tbody tr th:only-of-type {\n",
       "        vertical-align: middle;\n",
       "    }\n",
       "\n",
       "    .dataframe tbody tr th {\n",
       "        vertical-align: top;\n",
       "    }\n",
       "\n",
       "    .dataframe thead th {\n",
       "        text-align: right;\n",
       "    }\n",
       "</style>\n",
       "<table border=\"1\" class=\"dataframe\">\n",
       "  <thead>\n",
       "    <tr style=\"text-align: right;\">\n",
       "      <th></th>\n",
       "      <th>Open</th>\n",
       "      <th>High</th>\n",
       "      <th>Low</th>\n",
       "      <th>Close</th>\n",
       "      <th>Adj Close</th>\n",
       "      <th>Volume</th>\n",
       "    </tr>\n",
       "    <tr>\n",
       "      <th>Date</th>\n",
       "      <th></th>\n",
       "      <th></th>\n",
       "      <th></th>\n",
       "      <th></th>\n",
       "      <th></th>\n",
       "      <th></th>\n",
       "    </tr>\n",
       "  </thead>\n",
       "  <tbody>\n",
       "    <tr>\n",
       "      <th>2020-01-02</th>\n",
       "      <td>74.059998</td>\n",
       "      <td>75.150002</td>\n",
       "      <td>73.797501</td>\n",
       "      <td>75.087502</td>\n",
       "      <td>73.059425</td>\n",
       "      <td>135480400</td>\n",
       "    </tr>\n",
       "    <tr>\n",
       "      <th>2020-01-03</th>\n",
       "      <td>74.287498</td>\n",
       "      <td>75.144997</td>\n",
       "      <td>74.125000</td>\n",
       "      <td>74.357498</td>\n",
       "      <td>72.349136</td>\n",
       "      <td>146322800</td>\n",
       "    </tr>\n",
       "    <tr>\n",
       "      <th>2020-01-06</th>\n",
       "      <td>73.447502</td>\n",
       "      <td>74.989998</td>\n",
       "      <td>73.187500</td>\n",
       "      <td>74.949997</td>\n",
       "      <td>72.925644</td>\n",
       "      <td>118387200</td>\n",
       "    </tr>\n",
       "    <tr>\n",
       "      <th>2020-01-07</th>\n",
       "      <td>74.959999</td>\n",
       "      <td>75.224998</td>\n",
       "      <td>74.370003</td>\n",
       "      <td>74.597504</td>\n",
       "      <td>72.582649</td>\n",
       "      <td>108872000</td>\n",
       "    </tr>\n",
       "    <tr>\n",
       "      <th>2020-01-08</th>\n",
       "      <td>74.290001</td>\n",
       "      <td>76.110001</td>\n",
       "      <td>74.290001</td>\n",
       "      <td>75.797501</td>\n",
       "      <td>73.750267</td>\n",
       "      <td>132079200</td>\n",
       "    </tr>\n",
       "  </tbody>\n",
       "</table>\n",
       "</div>"
      ],
      "text/plain": [
       "                 Open       High        Low      Close  Adj Close     Volume\n",
       "Date                                                                        \n",
       "2020-01-02  74.059998  75.150002  73.797501  75.087502  73.059425  135480400\n",
       "2020-01-03  74.287498  75.144997  74.125000  74.357498  72.349136  146322800\n",
       "2020-01-06  73.447502  74.989998  73.187500  74.949997  72.925644  118387200\n",
       "2020-01-07  74.959999  75.224998  74.370003  74.597504  72.582649  108872000\n",
       "2020-01-08  74.290001  76.110001  74.290001  75.797501  73.750267  132079200"
      ]
     },
     "execution_count": 4,
     "metadata": {},
     "output_type": "execute_result"
    }
   ],
   "source": [
    "df.head()"
   ]
  },
  {
   "cell_type": "code",
   "execution_count": 5,
   "id": "2962addc-7721-439f-82de-229f620943ae",
   "metadata": {},
   "outputs": [
    {
     "data": {
      "text/plain": [
       "Open         0\n",
       "High         0\n",
       "Low          0\n",
       "Close        0\n",
       "Adj Close    0\n",
       "Volume       0\n",
       "dtype: int64"
      ]
     },
     "execution_count": 5,
     "metadata": {},
     "output_type": "execute_result"
    }
   ],
   "source": [
    "df.isna().sum()"
   ]
  },
  {
   "cell_type": "code",
   "execution_count": 6,
   "id": "61bad4b9-4962-4679-afbc-6cb583f7fe00",
   "metadata": {},
   "outputs": [],
   "source": [
    "from sklearn.preprocessing import MinMaxScaler"
   ]
  },
  {
   "cell_type": "code",
   "execution_count": 7,
   "id": "b82726da-5b72-4147-8236-8fc5555919f1",
   "metadata": {},
   "outputs": [],
   "source": [
    "scaler = MinMaxScaler()"
   ]
  },
  {
   "cell_type": "code",
   "execution_count": 8,
   "id": "b50d5862-2b4f-422a-87dc-f81bde96b8d3",
   "metadata": {},
   "outputs": [
    {
     "data": {
      "text/plain": [
       "Open         float64\n",
       "High         float64\n",
       "Low          float64\n",
       "Close        float64\n",
       "Adj Close    float64\n",
       "Volume         int64\n",
       "dtype: object"
      ]
     },
     "execution_count": 8,
     "metadata": {},
     "output_type": "execute_result"
    }
   ],
   "source": [
    "df.dtypes"
   ]
  },
  {
   "cell_type": "code",
   "execution_count": 9,
   "id": "d46a423f-00a1-4b5b-83cb-0e14124bdb71",
   "metadata": {},
   "outputs": [],
   "source": [
    "df_scale = scaler.fit_transform(df['Close'].values.reshape(-1,1))"
   ]
  },
  {
   "cell_type": "code",
   "execution_count": 10,
   "id": "bcfacd4d-e735-4fc8-b77b-06104b892635",
   "metadata": {},
   "outputs": [
    {
     "data": {
      "text/plain": [
       "array([[0.13375114],\n",
       "       [0.1286109 ],\n",
       "       [0.13278292],\n",
       "       ...,\n",
       "       [0.80002469],\n",
       "       [0.82537361],\n",
       "       [0.81248787]])"
      ]
     },
     "execution_count": 10,
     "metadata": {},
     "output_type": "execute_result"
    }
   ],
   "source": [
    "df_scale"
   ]
  },
  {
   "cell_type": "code",
   "execution_count": 11,
   "id": "a456270a-1056-46b8-b8d0-bce5aa2c4a2e",
   "metadata": {},
   "outputs": [],
   "source": [
    "import numpy as np\n",
    "def create_dataset(df, time_steps):\n",
    "    X, y = [], []\n",
    "    for i in range(len(df) - time_steps - 1):\n",
    "        X.append(df[i:(i + time_steps), 0])\n",
    "        y.append(df[i + time_steps, 0])\n",
    "    return np.array(X), np.array(y)\n",
    "\n",
    "time_steps = 10\n",
    "x, y = create_dataset(df_scale, time_steps)"
   ]
  },
  {
   "cell_type": "code",
   "execution_count": 12,
   "id": "9851fb3b-ada2-4434-8607-8b7fa50d6a17",
   "metadata": {},
   "outputs": [],
   "source": [
    "train = int(len(x) * 0.8)"
   ]
  },
  {
   "cell_type": "code",
   "execution_count": 13,
   "id": "e209ae9f-2664-422b-b9b4-863fc2984296",
   "metadata": {},
   "outputs": [
    {
     "data": {
      "text/plain": [
       "844"
      ]
     },
     "execution_count": 13,
     "metadata": {},
     "output_type": "execute_result"
    }
   ],
   "source": [
    "train"
   ]
  },
  {
   "cell_type": "code",
   "execution_count": 29,
   "id": "ce20f273-4ecd-4fcf-80fb-cdb78deb2731",
   "metadata": {},
   "outputs": [],
   "source": [
    "x_tr, x_te = x[:train], x[train:]\n",
    "y_tr, y_te = y[:train], y[train:]"
   ]
  },
  {
   "cell_type": "code",
   "execution_count": 30,
   "id": "9d0bbf1a-c3a5-41d6-b83f-cfb7f14410d4",
   "metadata": {},
   "outputs": [],
   "source": [
    "# Reshape the data for LSTM input\n",
    "x_tr = x_tr.reshape(x_tr.shape[0], x_tr.shape[1], 1)\n",
    "x_te = x_te.reshape(x_te.shape[0], x_te.shape[1], 1)"
   ]
  },
  {
   "cell_type": "code",
   "execution_count": 32,
   "id": "2368432e-3b91-4044-9642-d4797456e239",
   "metadata": {},
   "outputs": [],
   "source": [
    "import tensorflow as tf\n",
    "from tensorflow.keras import Sequential\n",
    "from tensorflow.keras.layers import Dense, LSTM\n",
    "# Build the LSTM model\n",
    "model = Sequential([\n",
    "    LSTM(units=50, return_sequences=True, input_shape=(time_steps, 1)),\n",
    "    LSTM(units=50, return_sequences=False),\n",
    "    Dense(units=1)\n",
    "])"
   ]
  },
  {
   "cell_type": "code",
   "execution_count": 33,
   "id": "449c8af3-7a66-487d-8b1f-93c1ebd6cd9a",
   "metadata": {},
   "outputs": [
    {
     "name": "stdout",
     "output_type": "stream",
     "text": [
      "Epoch 1/100\n",
      "27/27 [==============================] - 4s 9ms/step - loss: 0.0537\n",
      "Epoch 2/100\n",
      "27/27 [==============================] - 0s 8ms/step - loss: 0.0047\n",
      "Epoch 3/100\n",
      "27/27 [==============================] - 0s 8ms/step - loss: 0.0022\n",
      "Epoch 4/100\n",
      "27/27 [==============================] - 0s 8ms/step - loss: 0.0016\n",
      "Epoch 5/100\n",
      "27/27 [==============================] - 0s 8ms/step - loss: 0.0014\n",
      "Epoch 6/100\n",
      "27/27 [==============================] - 0s 8ms/step - loss: 0.0015\n",
      "Epoch 7/100\n",
      "27/27 [==============================] - 0s 8ms/step - loss: 0.0014\n",
      "Epoch 8/100\n",
      "27/27 [==============================] - 0s 9ms/step - loss: 0.0014\n",
      "Epoch 9/100\n",
      "27/27 [==============================] - 0s 8ms/step - loss: 0.0015\n",
      "Epoch 10/100\n",
      "27/27 [==============================] - 0s 9ms/step - loss: 0.0014\n",
      "Epoch 11/100\n",
      "27/27 [==============================] - 0s 8ms/step - loss: 0.0014\n",
      "Epoch 12/100\n",
      "27/27 [==============================] - 0s 9ms/step - loss: 0.0014\n",
      "Epoch 13/100\n",
      "27/27 [==============================] - 0s 9ms/step - loss: 0.0014\n",
      "Epoch 14/100\n",
      "27/27 [==============================] - 0s 8ms/step - loss: 0.0014\n",
      "Epoch 15/100\n",
      "27/27 [==============================] - 0s 8ms/step - loss: 0.0014\n",
      "Epoch 16/100\n",
      "27/27 [==============================] - 0s 8ms/step - loss: 0.0014\n",
      "Epoch 17/100\n",
      "27/27 [==============================] - 0s 10ms/step - loss: 0.0015\n",
      "Epoch 18/100\n",
      "27/27 [==============================] - 0s 9ms/step - loss: 0.0014\n",
      "Epoch 19/100\n",
      "27/27 [==============================] - 0s 9ms/step - loss: 0.0013\n",
      "Epoch 20/100\n",
      "27/27 [==============================] - 0s 8ms/step - loss: 0.0013\n",
      "Epoch 21/100\n",
      "27/27 [==============================] - 0s 8ms/step - loss: 0.0013\n",
      "Epoch 22/100\n",
      "27/27 [==============================] - 0s 8ms/step - loss: 0.0013\n",
      "Epoch 23/100\n",
      "27/27 [==============================] - 0s 9ms/step - loss: 0.0013\n",
      "Epoch 24/100\n",
      "27/27 [==============================] - 0s 9ms/step - loss: 0.0013\n",
      "Epoch 25/100\n",
      "27/27 [==============================] - 0s 9ms/step - loss: 0.0013\n",
      "Epoch 26/100\n",
      "27/27 [==============================] - 0s 9ms/step - loss: 0.0012\n",
      "Epoch 27/100\n",
      "27/27 [==============================] - 0s 9ms/step - loss: 0.0013\n",
      "Epoch 28/100\n",
      "27/27 [==============================] - 0s 8ms/step - loss: 0.0013\n",
      "Epoch 29/100\n",
      "27/27 [==============================] - 0s 9ms/step - loss: 0.0012\n",
      "Epoch 30/100\n",
      "27/27 [==============================] - 0s 9ms/step - loss: 0.0012\n",
      "Epoch 31/100\n",
      "27/27 [==============================] - 0s 9ms/step - loss: 0.0013\n",
      "Epoch 32/100\n",
      "27/27 [==============================] - 0s 9ms/step - loss: 0.0012\n",
      "Epoch 33/100\n",
      "27/27 [==============================] - 0s 9ms/step - loss: 0.0013\n",
      "Epoch 34/100\n",
      "27/27 [==============================] - 0s 10ms/step - loss: 0.0013\n",
      "Epoch 35/100\n",
      "27/27 [==============================] - 0s 10ms/step - loss: 0.0011\n",
      "Epoch 36/100\n",
      "27/27 [==============================] - 0s 8ms/step - loss: 0.0011\n",
      "Epoch 37/100\n",
      "27/27 [==============================] - 0s 9ms/step - loss: 0.0011\n",
      "Epoch 38/100\n",
      "27/27 [==============================] - 0s 9ms/step - loss: 0.0011\n",
      "Epoch 39/100\n",
      "27/27 [==============================] - 0s 10ms/step - loss: 0.0012\n",
      "Epoch 40/100\n",
      "27/27 [==============================] - 0s 11ms/step - loss: 0.0011\n",
      "Epoch 41/100\n",
      "27/27 [==============================] - 0s 9ms/step - loss: 0.0010\n",
      "Epoch 42/100\n",
      "27/27 [==============================] - 0s 9ms/step - loss: 0.0010\n",
      "Epoch 43/100\n",
      "27/27 [==============================] - 0s 10ms/step - loss: 9.8074e-04\n",
      "Epoch 44/100\n",
      "27/27 [==============================] - 0s 10ms/step - loss: 9.8198e-04\n",
      "Epoch 45/100\n",
      "27/27 [==============================] - 0s 9ms/step - loss: 0.0010\n",
      "Epoch 46/100\n",
      "27/27 [==============================] - 0s 9ms/step - loss: 9.4257e-04\n",
      "Epoch 47/100\n",
      "27/27 [==============================] - 0s 9ms/step - loss: 9.0589e-04\n",
      "Epoch 48/100\n",
      "27/27 [==============================] - 0s 10ms/step - loss: 9.1905e-04\n",
      "Epoch 49/100\n",
      "27/27 [==============================] - 0s 9ms/step - loss: 9.7645e-04\n",
      "Epoch 50/100\n",
      "27/27 [==============================] - 0s 10ms/step - loss: 9.3540e-04\n",
      "Epoch 51/100\n",
      "27/27 [==============================] - 0s 9ms/step - loss: 9.2433e-04\n",
      "Epoch 52/100\n",
      "27/27 [==============================] - 0s 9ms/step - loss: 9.4622e-04\n",
      "Epoch 53/100\n",
      "27/27 [==============================] - 0s 9ms/step - loss: 9.2851e-04\n",
      "Epoch 54/100\n",
      "27/27 [==============================] - 0s 9ms/step - loss: 9.5805e-04\n",
      "Epoch 55/100\n",
      "27/27 [==============================] - 0s 9ms/step - loss: 8.0849e-04\n",
      "Epoch 56/100\n",
      "27/27 [==============================] - 0s 9ms/step - loss: 8.4553e-04\n",
      "Epoch 57/100\n",
      "27/27 [==============================] - 0s 10ms/step - loss: 7.8423e-04\n",
      "Epoch 58/100\n",
      "27/27 [==============================] - 0s 9ms/step - loss: 8.0501e-04\n",
      "Epoch 59/100\n",
      "27/27 [==============================] - 0s 9ms/step - loss: 8.1138e-04\n",
      "Epoch 60/100\n",
      "27/27 [==============================] - 0s 9ms/step - loss: 7.9334e-04\n",
      "Epoch 61/100\n",
      "27/27 [==============================] - 0s 9ms/step - loss: 7.9571e-04\n",
      "Epoch 62/100\n",
      "27/27 [==============================] - 0s 9ms/step - loss: 7.6029e-04\n",
      "Epoch 63/100\n",
      "27/27 [==============================] - 0s 9ms/step - loss: 8.0254e-04\n",
      "Epoch 64/100\n",
      "27/27 [==============================] - 0s 9ms/step - loss: 7.3640e-04\n",
      "Epoch 65/100\n",
      "27/27 [==============================] - 0s 9ms/step - loss: 7.1231e-04\n",
      "Epoch 66/100\n",
      "27/27 [==============================] - 0s 10ms/step - loss: 7.1915e-04\n",
      "Epoch 67/100\n",
      "27/27 [==============================] - 0s 9ms/step - loss: 7.7758e-04\n",
      "Epoch 68/100\n",
      "27/27 [==============================] - 0s 10ms/step - loss: 8.1691e-04\n",
      "Epoch 69/100\n",
      "27/27 [==============================] - 0s 10ms/step - loss: 7.3430e-04\n",
      "Epoch 70/100\n",
      "27/27 [==============================] - 0s 9ms/step - loss: 7.5778e-04\n",
      "Epoch 71/100\n",
      "27/27 [==============================] - 0s 9ms/step - loss: 6.8360e-04\n",
      "Epoch 72/100\n",
      "27/27 [==============================] - 0s 9ms/step - loss: 6.9879e-04\n",
      "Epoch 73/100\n",
      "27/27 [==============================] - 0s 9ms/step - loss: 9.1143e-04\n",
      "Epoch 74/100\n",
      "27/27 [==============================] - 0s 9ms/step - loss: 8.0771e-04\n",
      "Epoch 75/100\n",
      "27/27 [==============================] - 0s 9ms/step - loss: 6.9902e-04\n",
      "Epoch 76/100\n",
      "27/27 [==============================] - 0s 9ms/step - loss: 7.0708e-04\n",
      "Epoch 77/100\n",
      "27/27 [==============================] - 0s 9ms/step - loss: 8.2665e-04\n",
      "Epoch 78/100\n",
      "27/27 [==============================] - 0s 9ms/step - loss: 6.9313e-04\n",
      "Epoch 79/100\n",
      "27/27 [==============================] - 0s 10ms/step - loss: 6.9210e-04\n",
      "Epoch 80/100\n",
      "27/27 [==============================] - 0s 9ms/step - loss: 6.3293e-04\n",
      "Epoch 81/100\n",
      "27/27 [==============================] - 0s 9ms/step - loss: 6.8244e-04\n",
      "Epoch 82/100\n",
      "27/27 [==============================] - 0s 10ms/step - loss: 6.3588e-04\n",
      "Epoch 83/100\n",
      "27/27 [==============================] - 0s 9ms/step - loss: 6.1718e-04\n",
      "Epoch 84/100\n",
      "27/27 [==============================] - 0s 9ms/step - loss: 6.3831e-04\n",
      "Epoch 85/100\n",
      "27/27 [==============================] - 0s 9ms/step - loss: 6.4753e-04\n",
      "Epoch 86/100\n",
      "27/27 [==============================] - 0s 9ms/step - loss: 6.2715e-04\n",
      "Epoch 87/100\n",
      "27/27 [==============================] - 0s 9ms/step - loss: 6.4915e-04\n",
      "Epoch 88/100\n",
      "27/27 [==============================] - 0s 10ms/step - loss: 6.3157e-04\n",
      "Epoch 89/100\n",
      "27/27 [==============================] - 0s 9ms/step - loss: 7.7704e-04\n",
      "Epoch 90/100\n",
      "27/27 [==============================] - 0s 9ms/step - loss: 7.8487e-04\n",
      "Epoch 91/100\n",
      "27/27 [==============================] - 0s 9ms/step - loss: 8.7729e-04\n",
      "Epoch 92/100\n",
      "27/27 [==============================] - 0s 9ms/step - loss: 6.5576e-04\n",
      "Epoch 93/100\n",
      "27/27 [==============================] - 0s 9ms/step - loss: 5.8286e-04\n",
      "Epoch 94/100\n",
      "27/27 [==============================] - 0s 9ms/step - loss: 5.9964e-04\n",
      "Epoch 95/100\n",
      "27/27 [==============================] - 0s 9ms/step - loss: 6.2594e-04\n",
      "Epoch 96/100\n",
      "27/27 [==============================] - 0s 9ms/step - loss: 5.9041e-04\n",
      "Epoch 97/100\n",
      "27/27 [==============================] - 0s 10ms/step - loss: 6.9509e-04\n",
      "Epoch 98/100\n",
      "27/27 [==============================] - 0s 9ms/step - loss: 7.7586e-04\n",
      "Epoch 99/100\n",
      "27/27 [==============================] - 0s 9ms/step - loss: 6.2230e-04\n",
      "Epoch 100/100\n",
      "27/27 [==============================] - 0s 9ms/step - loss: 5.6338e-04\n"
     ]
    },
    {
     "data": {
      "text/plain": [
       "<keras.src.callbacks.History at 0x1a9908ed350>"
      ]
     },
     "execution_count": 33,
     "metadata": {},
     "output_type": "execute_result"
    }
   ],
   "source": [
    "# Compile the model\n",
    "model.compile(optimizer='adam', loss='mean_squared_error')\n",
    "\n",
    "# Train the model\n",
    "model.fit(x_tr, y_tr, epochs=100, batch_size=32)\n"
   ]
  },
  {
   "cell_type": "code",
   "execution_count": 34,
   "id": "10cc7371-97cf-4cd4-8900-a6084ed983f0",
   "metadata": {},
   "outputs": [
    {
     "name": "stdout",
     "output_type": "stream",
     "text": [
      "7/7 [==============================] - 1s 4ms/step - loss: 4.0141e-04\n",
      "Mean Squared Error: 0.0004014133883174509\n"
     ]
    }
   ],
   "source": [
    "# Evaluate the model\n",
    "mse = model.evaluate(x_te, y_te)\n",
    "print(\"Mean Squared Error:\", mse)"
   ]
  },
  {
   "cell_type": "code",
   "execution_count": 36,
   "id": "d24fc13c-be78-4f53-b685-733d63aefe92",
   "metadata": {},
   "outputs": [
    {
     "name": "stdout",
     "output_type": "stream",
     "text": [
      "7/7 [==============================] - 1s 4ms/step\n"
     ]
    }
   ],
   "source": [
    "\n",
    "# Make predictions\n",
    "predictions = model.predict(x_te)\n",
    "\n",
    "# Inverse transform the predictions\n",
    "predictions = scaler.inverse_transform(predictions)\n"
   ]
  },
  {
   "cell_type": "code",
   "execution_count": 37,
   "id": "bea72304-2537-400d-a1c7-e5222ebcd18e",
   "metadata": {},
   "outputs": [
    {
     "data": {
      "image/png": "[encoded data removed]",
      "text/plain": [
       "<Figure size 640x480 with 1 Axes>"
      ]
     },
     "metadata": {},
     "output_type": "display_data"
    }
   ],
   "source": [
    "# Visualize the predictions\n",
    "import matplotlib.pyplot as plt\n",
    "\n",
    "plt.plot(predictions, label='Predicted')\n",
    "plt.plot(scaler.inverse_transform(y_te.reshape(-1, 1)), label='Actual')\n",
    "plt.xlabel('Time')\n",
    "plt.ylabel('Stock Price')\n",
    "plt.title('Stock Price Prediction')\n",
    "plt.legend()\n",
    "plt.show()"
   ]
  },
  {
   "cell_type": "code",
   "execution_count": null,
   "id": "bca84f9c-0978-4ed7-8003-2866d9767d68",
   "metadata": {},
   "outputs": [],
   "source": []
  },
  {
   "cell_type": "code",
   "execution_count": null,
   "id": "70e33249-c4a8-4ef4-94f0-195c8d8f9532",
   "metadata": {},
   "outputs": [],
   "source": []
  },
  {
   "cell_type": "code",
   "execution_count": null,
   "id": "e05a63b9-3775-4553-9cdb-ade25b333cec",
   "metadata": {},
   "outputs": [],
   "source": []
  }
 ],
 "metadata": {
  "kernelspec": {
   "display_name": "Python 3 (ipykernel)",
   "language": "python",
   "name": "python3"
  },
  "language_info": {
   "codemirror_mode": {
    "name": "ipython",
    "version": 3
   },
   "file_extension": ".py",
   "mimetype": "text/x-python",
   "name": "python",
   "nbconvert_exporter": "python",
   "pygments_lexer": "ipython3",
   "version": "3.11.0"
  }
 },
 "nbformat": 4,
 "nbformat_minor": 5
}
